{
 "cells": [
  {
   "cell_type": "code",
   "execution_count": 1,
   "metadata": {},
   "outputs": [],
   "source": [
    "print('Classes are blueprint ')"
   ]
  },
  {
   "cell_type": "code",
   "execution_count": 6,
   "metadata": {},
   "outputs": [],
   "source": [
    "# self is a special referce to particular object withing class itself\n",
    "\n",
    "#METHODS\n",
    "#1. perform action\n",
    "#2. updte state\n",
    "# 3. return curren state of object"
   ]
  },
  {
   "cell_type": "code",
   "execution_count": 3,
   "metadata": {},
   "outputs": [],
   "source": [
    "class Student:\n",
    "    pass"
   ]
  },
  {
   "cell_type": "code",
   "execution_count": 4,
   "metadata": {},
   "outputs": [
    {
     "data": {
      "text/plain": [
       "type"
      ]
     },
     "execution_count": 4,
     "metadata": {},
     "output_type": "execute_result"
    }
   ],
   "source": [
    "type(Student)"
   ]
  },
  {
   "cell_type": "code",
   "execution_count": 5,
   "metadata": {},
   "outputs": [],
   "source": [
    "object_1=Student()"
   ]
  },
  {
   "cell_type": "code",
   "execution_count": 6,
   "metadata": {},
   "outputs": [
    {
     "data": {
      "text/plain": [
       "True"
      ]
     },
     "execution_count": 6,
     "metadata": {},
     "output_type": "execute_result"
    }
   ],
   "source": [
    "isinstance(object_1,Student)"
   ]
  },
  {
   "cell_type": "code",
   "execution_count": 7,
   "metadata": {},
   "outputs": [],
   "source": [
    "class Student:\n",
    "    \n",
    "    # Class Variables\n",
    "    student_grade='A'\n",
    "    \n",
    "    #Special method which is always called whenver you create an\n",
    "    # instance of class\n",
    "    # name and gpa are MEMBER VARIABLES\n",
    "    def __init__(self,name,gpa):\n",
    "        self.name=name;\n",
    "        self.gpa=gpa\n",
    "        print('Initialization called')\n",
    "     \n",
    "    # MEMBER FUNCTIONS\n",
    "    def printStudentDetails(self):\n",
    "        return f'I am {self.name} with a GPA of {self.gpa}';"
   ]
  },
  {
   "cell_type": "code",
   "execution_count": 8,
   "metadata": {},
   "outputs": [
    {
     "name": "stdout",
     "output_type": "stream",
     "text": [
      "Initialization called\n"
     ]
    }
   ],
   "source": [
    "object_1=Student('James Jackson',3.9)"
   ]
  },
  {
   "cell_type": "code",
   "execution_count": 9,
   "metadata": {},
   "outputs": [
    {
     "data": {
      "text/plain": [
       "'I am James Jackson with a GPA of 3.9'"
      ]
     },
     "execution_count": 9,
     "metadata": {},
     "output_type": "execute_result"
    }
   ],
   "source": [
    "object_1.printStudentDetails()"
   ]
  },
  {
   "cell_type": "code",
   "execution_count": 10,
   "metadata": {},
   "outputs": [
    {
     "name": "stdout",
     "output_type": "stream",
     "text": [
      "Initialization called\n"
     ]
    }
   ],
   "source": [
    "object_2=Student('Rachel Green',3.9)"
   ]
  },
  {
   "cell_type": "code",
   "execution_count": 11,
   "metadata": {},
   "outputs": [
    {
     "name": "stdout",
     "output_type": "stream",
     "text": [
      "All variables in python are public are default. No concept of private,protected,public.\n",
      "Data Encapsulation : Daat which lives inside a class should not be accessible to code oUtside of that class.\n",
      "    Use of __ just makes thing  bit harder so you dont inevidently access or change the variables\n"
     ]
    }
   ],
   "source": [
    "print('''All variables in python are public are default. No concept of private,protected,public.\n",
    "Data Encapsulation : Daat which lives inside a class should not be accessible to code oUtside of that class.\n",
    "    Use of __ just makes thing  bit harder so you dont inevidently access or change the variables''')"
   ]
  },
  {
   "cell_type": "code",
   "execution_count": 15,
   "metadata": {},
   "outputs": [],
   "source": [
    "class Dog:\n",
    "    #Constructor of Class Dog.\n",
    "    def __init__(self,name):\n",
    "        self.__name=name   #creating a private variable\n",
    "        \n",
    "    def printdetails(self):\n",
    "        return 'Hi, I am %s'%self.__name"
   ]
  },
  {
   "cell_type": "code",
   "execution_count": 16,
   "metadata": {},
   "outputs": [
    {
     "data": {
      "text/plain": [
       "'Hi, I am Nemo'"
      ]
     },
     "execution_count": 16,
     "metadata": {},
     "output_type": "execute_result"
    }
   ],
   "source": [
    "d1=Dog('Nemo')\n",
    "d1.printdetails()"
   ]
  },
  {
   "cell_type": "code",
   "execution_count": 17,
   "metadata": {},
   "outputs": [
    {
     "data": {
      "text/plain": [
       "{'_Dog__name': 'Nemo'}"
      ]
     },
     "execution_count": 17,
     "metadata": {},
     "output_type": "execute_result"
    }
   ],
   "source": [
    "d1.__dict__ "
   ]
  },
  {
   "cell_type": "code",
   "execution_count": 19,
   "metadata": {},
   "outputs": [
    {
     "data": {
      "text/plain": [
       "'Hi, I am Nemo'"
      ]
     },
     "execution_count": 19,
     "metadata": {},
     "output_type": "execute_result"
    }
   ],
   "source": [
    "d1.__name='Moje'\n",
    "d1.printdetails()"
   ]
  },
  {
   "cell_type": "code",
   "execution_count": 20,
   "metadata": {},
   "outputs": [
    {
     "data": {
      "text/plain": [
       "{'_Dog__name': 'Nemo', '__name': 'Moje'}"
      ]
     },
     "execution_count": 20,
     "metadata": {},
     "output_type": "execute_result"
    }
   ],
   "source": [
    "d1.__dict__"
   ]
  },
  {
   "cell_type": "code",
   "execution_count": 12,
   "metadata": {},
   "outputs": [
    {
     "name": "stdout",
     "output_type": "stream",
     "text": [
      " Looking into polymorphism and inheritance\n"
     ]
    }
   ],
   "source": [
    "print(' Looking into polymorphism and inheritance')\n",
    "class BankAccount():\n",
    "     #constructor\n",
    "    def __init__(self,balance):\n",
    "        self.balance=balance  # member variables\n",
    "    \n",
    "    def withdrawal(self,withdraw):\n",
    "        self.balance=self.balance-withdraw\n",
    "        return self.balance\n",
    "    \n",
    "    def deposit(self,deposit):\n",
    "        self.balance=self.balance+deposit\n",
    "        return self.balance"
   ]
  },
  {
   "cell_type": "code",
   "execution_count": 13,
   "metadata": {},
   "outputs": [],
   "source": [
    "class MinimumBalanceAccount(BankAccount):\n",
    "    \n",
    "    minimum_balance=500\n",
    "    def __init__(self,balance):\n",
    "        super().__init__(balance) # keyword super() used to \n",
    "    \n",
    "    def withdrawal(self,withdraw):\n",
    "        if(self.balance-withdraw<self.minimum_balance):\n",
    "            return \"Sorry, minimum balance must be maintained.\"\n",
    "        else:\n",
    "            self.balance=self.balance-withdraw\n",
    "            return self.balance"
   ]
  },
  {
   "cell_type": "code",
   "execution_count": 14,
   "metadata": {},
   "outputs": [
    {
     "name": "stdout",
     "output_type": "stream",
     "text": [
      "Help on class MinimumBalanceAccount in module __main__:\n",
      "\n",
      "class MinimumBalanceAccount(BankAccount)\n",
      " |  MinimumBalanceAccount(balance)\n",
      " |  \n",
      " |  Method resolution order:\n",
      " |      MinimumBalanceAccount\n",
      " |      BankAccount\n",
      " |      builtins.object\n",
      " |  \n",
      " |  Methods defined here:\n",
      " |  \n",
      " |  __init__(self, balance)\n",
      " |      Initialize self.  See help(type(self)) for accurate signature.\n",
      " |  \n",
      " |  withdrawal(self, withdraw)\n",
      " |  \n",
      " |  ----------------------------------------------------------------------\n",
      " |  Data and other attributes defined here:\n",
      " |  \n",
      " |  minimum_balance = 500\n",
      " |  \n",
      " |  ----------------------------------------------------------------------\n",
      " |  Methods inherited from BankAccount:\n",
      " |  \n",
      " |  deposit(self, deposit)\n",
      " |  \n",
      " |  ----------------------------------------------------------------------\n",
      " |  Data descriptors inherited from BankAccount:\n",
      " |  \n",
      " |  __dict__\n",
      " |      dictionary for instance variables (if defined)\n",
      " |  \n",
      " |  __weakref__\n",
      " |      list of weak references to the object (if defined)\n",
      "\n"
     ]
    }
   ],
   "source": [
    "help(MinimumBalanceAccount) #METHOD RESOLUTION ORDER"
   ]
  },
  {
   "cell_type": "code",
   "execution_count": 16,
   "metadata": {},
   "outputs": [],
   "source": [
    "accountbalance=MinimumBalanceAccount(2000)"
   ]
  },
  {
   "cell_type": "code",
   "execution_count": 17,
   "metadata": {},
   "outputs": [
    {
     "name": "stdout",
     "output_type": "stream",
     "text": [
      " Deposit 500\n",
      " BEfore depositing bal is  2000\n",
      " After depositing 500 balance is  2500\n"
     ]
    }
   ],
   "source": [
    "print(' Deposit 500')\n",
    "print(' BEfore depositing bal is ',accountbalance.balance)\n",
    "print( ' After depositing 500 balance is ',accountbalance.deposit(500))"
   ]
  },
  {
   "cell_type": "code",
   "execution_count": 18,
   "metadata": {},
   "outputs": [
    {
     "name": "stdout",
     "output_type": "stream",
     "text": [
      " Withdrawal of  1900\n",
      " BEfore withdrawal bal is  2500\n",
      " After withdrawal 1900 balance is  600\n"
     ]
    }
   ],
   "source": [
    "print(' Withdrawal of  1900')\n",
    "print(' BEfore withdrawal bal is ',accountbalance.balance)\n",
    "print( ' After withdrawal 1900 balance is ',accountbalance.withdrawal(1900))"
   ]
  },
  {
   "cell_type": "code",
   "execution_count": 19,
   "metadata": {},
   "outputs": [
    {
     "name": "stdout",
     "output_type": "stream",
     "text": [
      " Withdrawal of  200\n",
      " BEfore withdrawal bal is  600\n",
      " After withdrawal 200 :  Sorry, minimum balance must be maintained.\n"
     ]
    }
   ],
   "source": [
    "print(' Withdrawal of  200')\n",
    "print(' BEfore withdrawal bal is ',accountbalance.balance)\n",
    "print( ' After withdrawal 200 : ',accountbalance.withdrawal(200))"
   ]
  },
  {
   "cell_type": "code",
   "execution_count": 20,
   "metadata": {},
   "outputs": [
    {
     "name": "stdout",
     "output_type": "stream",
     "text": [
      "Abstraction\n"
     ]
    }
   ],
   "source": [
    "print('Abstraction')\n",
    "from abc import ABC,abstractmethod\n",
    "class Employee(ABC):\n",
    "    @abstractmethod\n",
    "    def fetch_salary(self,sal):\n",
    "        pass"
   ]
  },
  {
   "cell_type": "code",
   "execution_count": 21,
   "metadata": {},
   "outputs": [],
   "source": [
    "class Developer(Employee):\n",
    "\n",
    " def fetch_salary(self,sal):\n",
    "        print(\"Salary of employee is \",sal)"
   ]
  },
  {
   "cell_type": "code",
   "execution_count": 22,
   "metadata": {},
   "outputs": [
    {
     "name": "stdout",
     "output_type": "stream",
     "text": [
      "Salary of employee is  5000\n"
     ]
    }
   ],
   "source": [
    "dev=Developer()\n",
    "dev.fetch_salary(5000)"
   ]
  },
  {
   "cell_type": "code",
   "execution_count": null,
   "metadata": {},
   "outputs": [],
   "source": []
  }
 ],
 "metadata": {
  "kernelspec": {
   "display_name": "Python 3",
   "language": "python",
   "name": "python3"
  },
  "language_info": {
   "codemirror_mode": {
    "name": "ipython",
    "version": 3
   },
   "file_extension": ".py",
   "mimetype": "text/x-python",
   "name": "python",
   "nbconvert_exporter": "python",
   "pygments_lexer": "ipython3",
   "version": "3.7.3"
  }
 },
 "nbformat": 4,
 "nbformat_minor": 2
}
